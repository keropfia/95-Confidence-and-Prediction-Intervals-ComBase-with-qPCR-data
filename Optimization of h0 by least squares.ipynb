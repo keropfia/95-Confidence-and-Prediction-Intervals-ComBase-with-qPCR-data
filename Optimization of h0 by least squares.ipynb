{
  "nbformat": 4,
  "nbformat_minor": 0,
  "metadata": {
    "colab": {
      "provenance": [],
      "authorship_tag": "ABX9TyPElt3YHfzX6SR3B5t8Y9qG",
      "include_colab_link": true
    },
    "kernelspec": {
      "name": "python3",
      "display_name": "Python 3"
    },
    "language_info": {
      "name": "python"
    }
  },
  "cells": [
    {
      "cell_type": "markdown",
      "metadata": {
        "id": "view-in-github",
        "colab_type": "text"
      },
      "source": [
        "<a href=\"https://colab.research.google.com/github/keropfia/95-Confidence-and-Prediction-Intervals-ComBase-with-qPCR-data/blob/main/Optimization%20of%20h0%20by%20least%20squares.ipynb\" target=\"_parent\"><img src=\"https://colab.research.google.com/assets/colab-badge.svg\" alt=\"Open In Colab\"/></a>"
      ]
    },
    {
      "cell_type": "code",
      "execution_count": 5,
      "metadata": {
        "id": "5nhq0jGjJGIM"
      },
      "outputs": [],
      "source": [
        "import numpy as np\n",
        "from scipy.optimize import least_squares"
      ]
    },
    {
      "cell_type": "markdown",
      "source": [
        "Input the data"
      ],
      "metadata": {
        "id": "h_o6PLBaLPZQ"
      }
    },
    {
      "cell_type": "code",
      "source": [
        "mu_max_values = np.array([0.0982229, 0.2326791, 0.3676893, 0.65461, 1.0237411])  # known µ_max for each temperature\n",
        "lag_obs = np.array([22.47065, 9.307479, 6.008873, 3.075306, 2.394743])            # observed lag times"
      ],
      "metadata": {
        "id": "a89KpsFeLMzd"
      },
      "execution_count": 2,
      "outputs": []
    },
    {
      "cell_type": "code",
      "source": [
        "# 🔹 Residuals function: returns vector of (obs - pred) differences\n",
        "def residuals(h0):\n",
        "    lag_pred = h0 / mu_max_values\n",
        "    return lag_obs - lag_pred\n",
        "\n",
        "# 🔹 Initial guess\n",
        "h0_initial = [1.0]  # must be a list or array-like for least_squares\n",
        "\n",
        "# 🔹 Perform least squares optimization\n",
        "result = least_squares(residuals, h0_initial)\n",
        "\n",
        "# 🔹 Extract results\n",
        "optimal_h0 = result.x[0]\n",
        "print(f\"Optimal h0: {optimal_h0:.4f}\")\n",
        "\n",
        "# 🔹 Optional: show predicted vs observed\n",
        "lag_pred = optimal_h0 / mu_max_values\n",
        "print(\"\\nObserved vs Predicted Lag Times:\")\n",
        "for i, (obs, pred) in enumerate(zip(lag_obs, lag_pred)):\n",
        "    print(f\"Temp {i+1}: Observed = {obs:.2f}, Predicted = {pred:.2f}\")"
      ],
      "metadata": {
        "colab": {
          "base_uri": "https://localhost:8080/"
        },
        "id": "n7-m287vSJTc",
        "outputId": "b18673ba-5089-42c8-d476-863fd4a73ec6"
      },
      "execution_count": 6,
      "outputs": [
        {
          "output_type": "stream",
          "name": "stdout",
          "text": [
            "Optimal h0: 2.1998\n",
            "\n",
            "Observed vs Predicted Lag Times:\n",
            "Temp 1: Observed = 22.47, Predicted = 22.40\n",
            "Temp 2: Observed = 9.31, Predicted = 9.45\n",
            "Temp 3: Observed = 6.01, Predicted = 5.98\n",
            "Temp 4: Observed = 3.08, Predicted = 3.36\n",
            "Temp 5: Observed = 2.39, Predicted = 2.15\n"
          ]
        }
      ]
    }
  ]
}
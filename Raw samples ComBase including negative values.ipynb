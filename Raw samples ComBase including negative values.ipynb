{
  "nbformat": 4,
  "nbformat_minor": 0,
  "metadata": {
    "colab": {
      "provenance": [],
      "authorship_tag": "ABX9TyNn0v0vamKNL91dKA51L5j0",
      "include_colab_link": true
    },
    "kernelspec": {
      "name": "python3",
      "display_name": "Python 3"
    },
    "language_info": {
      "name": "python"
    },
    "widgets": {
      "application/vnd.jupyter.widget-state+json": {
        "94a9b7c86ded4c828aec76f154c60c4f": {
          "model_module": "@jupyter-widgets/output",
          "model_name": "OutputModel",
          "model_module_version": "1.0.0",
          "state": {
            "_dom_classes": [],
            "_model_module": "@jupyter-widgets/output",
            "_model_module_version": "1.0.0",
            "_model_name": "OutputModel",
            "_view_count": null,
            "_view_module": "@jupyter-widgets/output",
            "_view_module_version": "1.0.0",
            "_view_name": "OutputView",
            "layout": "IPY_MODEL_e0420bd454344007ad9cc32c17dba4a0",
            "msg_id": "",
            "outputs": [
              {
                "output_type": "display_data",
                "data": {
                  "text/plain": "     \u001b[38;5;237m━━━━━━━━━━━━━━━━━━━━━━━━━━━━━━━━━━━━━━━━\u001b[0m \u001b[32m0.0/98.4 kB\u001b[0m \u001b[31m?\u001b[0m eta \u001b[36m-:--:--\u001b[0m\n",
                  "text/html": "<pre style=\"white-space:pre;overflow-x:auto;line-height:normal;font-family:Menlo,'DejaVu Sans Mono',consolas,'Courier New',monospace\">     <span style=\"color: #3a3a3a; text-decoration-color: #3a3a3a\">━━━━━━━━━━━━━━━━━━━━━━━━━━━━━━━━━━━━━━━━</span> <span style=\"color: #008000; text-decoration-color: #008000\">0.0/98.4 kB</span> <span style=\"color: #800000; text-decoration-color: #800000\">?</span> eta <span style=\"color: #008080; text-decoration-color: #008080\">-:--:--</span>\n</pre>\n"
                },
                "metadata": {}
              }
            ]
          }
        },
        "e0420bd454344007ad9cc32c17dba4a0": {
          "model_module": "@jupyter-widgets/base",
          "model_name": "LayoutModel",
          "model_module_version": "1.2.0",
          "state": {
            "_model_module": "@jupyter-widgets/base",
            "_model_module_version": "1.2.0",
            "_model_name": "LayoutModel",
            "_view_count": null,
            "_view_module": "@jupyter-widgets/base",
            "_view_module_version": "1.2.0",
            "_view_name": "LayoutView",
            "align_content": null,
            "align_items": null,
            "align_self": null,
            "border": null,
            "bottom": null,
            "display": null,
            "flex": null,
            "flex_flow": null,
            "grid_area": null,
            "grid_auto_columns": null,
            "grid_auto_flow": null,
            "grid_auto_rows": null,
            "grid_column": null,
            "grid_gap": null,
            "grid_row": null,
            "grid_template_areas": null,
            "grid_template_columns": null,
            "grid_template_rows": null,
            "height": null,
            "justify_content": null,
            "justify_items": null,
            "left": null,
            "margin": null,
            "max_height": null,
            "max_width": null,
            "min_height": null,
            "min_width": null,
            "object_fit": null,
            "object_position": null,
            "order": null,
            "overflow": null,
            "overflow_x": null,
            "overflow_y": null,
            "padding": null,
            "right": null,
            "top": null,
            "visibility": null,
            "width": null
          }
        }
      }
    }
  },
  "cells": [
    {
      "cell_type": "markdown",
      "metadata": {
        "id": "view-in-github",
        "colab_type": "text"
      },
      "source": [
        "<a href=\"https://colab.research.google.com/github/keropfia/95-Confidence-and-Prediction-Intervals-ComBase-with-qPCR-data/blob/main/Raw%20samples%20ComBase%20including%20negative%20values.ipynb\" target=\"_parent\"><img src=\"https://colab.research.google.com/assets/colab-badge.svg\" alt=\"Open In Colab\"/></a>"
      ]
    },
    {
      "cell_type": "code",
      "execution_count": 1,
      "metadata": {
        "id": "h9tK6-97BFDd"
      },
      "outputs": [],
      "source": [
        "import numpy as np\n",
        "from scipy.optimize import curve_fit\n",
        "import matplotlib.pyplot as plt\n",
        "from scipy import stats\n",
        "import pandas as pd"
      ]
    },
    {
      "cell_type": "code",
      "source": [
        "# pip install uncertainties, if needed\n",
        "try:\n",
        "    import uncertainties.unumpy as unp\n",
        "    import uncertainties as unc\n",
        "except:\n",
        "    try:\n",
        "        from pip import main as pipmain\n",
        "    except:\n",
        "        from pip._internal import main as pipmain\n",
        "    pipmain(['install','uncertainties'])\n",
        "    import uncertainties.unumpy as unp\n",
        "    import uncertainties as unc"
      ],
      "metadata": {
        "colab": {
          "base_uri": "https://localhost:8080/",
          "height": 206,
          "referenced_widgets": [
            "94a9b7c86ded4c828aec76f154c60c4f",
            "e0420bd454344007ad9cc32c17dba4a0"
          ]
        },
        "id": "LCdZmdAizHW-",
        "outputId": "b0108050-f775-49dc-9db0-1d1fe93431b1"
      },
      "execution_count": 2,
      "outputs": [
        {
          "output_type": "stream",
          "name": "stderr",
          "text": [
            "/usr/local/lib/python3.10/dist-packages/_distutils_hack/__init__.py:33: UserWarning: Setuptools is replacing distutils.\n",
            "  warnings.warn(\"Setuptools is replacing distutils.\")\n",
            "WARNING: pip is being invoked by an old script wrapper. This will fail in a future version of pip.\n",
            "Please see https://github.com/pypa/pip/issues/5599 for advice on fixing the underlying issue.\n",
            "To avoid this problem you can invoke Python with '-m pip' instead of running pip directly.\n"
          ]
        },
        {
          "output_type": "display_data",
          "data": {
            "text/plain": [
              "Collecting uncertainties\n"
            ],
            "text/html": [
              "<pre style=\"white-space:pre;overflow-x:auto;line-height:normal;font-family:Menlo,'DejaVu Sans Mono',consolas,'Courier New',monospace\">Collecting uncertainties\n",
              "</pre>\n"
            ]
          },
          "metadata": {}
        },
        {
          "output_type": "display_data",
          "data": {
            "text/plain": [
              "  Downloading uncertainties-3.1.7-py2.py3-none-any.whl (98 kB)\n"
            ],
            "text/html": [
              "<pre style=\"white-space:pre;overflow-x:auto;line-height:normal;font-family:Menlo,'DejaVu Sans Mono',consolas,'Courier New',monospace\">  Downloading uncertainties-3.1.7-py2.py3-none-any.whl (98 kB)\n",
              "</pre>\n"
            ]
          },
          "metadata": {}
        },
        {
          "output_type": "display_data",
          "data": {
            "text/plain": [
              "Output()"
            ],
            "application/vnd.jupyter.widget-view+json": {
              "version_major": 2,
              "version_minor": 0,
              "model_id": "94a9b7c86ded4c828aec76f154c60c4f"
            }
          },
          "metadata": {}
        },
        {
          "output_type": "display_data",
          "data": {
            "text/plain": [],
            "text/html": [
              "<pre style=\"white-space:pre;overflow-x:auto;line-height:normal;font-family:Menlo,'DejaVu Sans Mono',consolas,'Courier New',monospace\"></pre>\n"
            ]
          },
          "metadata": {}
        },
        {
          "output_type": "display_data",
          "data": {
            "text/plain": [
              "\n"
            ],
            "text/html": [
              "<pre style=\"white-space:pre;overflow-x:auto;line-height:normal;font-family:Menlo,'DejaVu Sans Mono',consolas,'Courier New',monospace\">\n",
              "</pre>\n"
            ]
          },
          "metadata": {}
        },
        {
          "output_type": "display_data",
          "data": {
            "text/plain": [
              "Requirement already satisfied: future in /usr/local/lib/python3.10/dist-packages (from uncertainties) (0.18.3)\n"
            ],
            "text/html": [
              "<pre style=\"white-space:pre;overflow-x:auto;line-height:normal;font-family:Menlo,'DejaVu Sans Mono',consolas,'Courier New',monospace\">Requirement already satisfied: future in /usr/local/lib/python3.10/dist-packages (from uncertainties) (0.18.3)\n",
              "</pre>\n"
            ]
          },
          "metadata": {}
        },
        {
          "output_type": "display_data",
          "data": {
            "text/plain": [
              "Installing collected packages: uncertainties\n"
            ],
            "text/html": [
              "<pre style=\"white-space:pre;overflow-x:auto;line-height:normal;font-family:Menlo,'DejaVu Sans Mono',consolas,'Courier New',monospace\">Installing collected packages: uncertainties\n",
              "</pre>\n"
            ]
          },
          "metadata": {}
        },
        {
          "output_type": "display_data",
          "data": {
            "text/plain": [
              "Successfully installed uncertainties-3.1.7\n"
            ],
            "text/html": [
              "<pre style=\"white-space:pre;overflow-x:auto;line-height:normal;font-family:Menlo,'DejaVu Sans Mono',consolas,'Courier New',monospace\">Successfully installed uncertainties-3.1.7\n",
              "</pre>\n"
            ]
          },
          "metadata": {}
        }
      ]
    },
    {
      "cell_type": "code",
      "source": [
        "# import data\n",
        "datafile_name = 'x and y CJ ComBase including negative values.csv'\n",
        "data = pd.read_csv(datafile_name)\n",
        "data\n",
        "x = data['x'].values\n",
        "y = data['y'].values\n",
        "n = len(y)\n",
        "\n",
        "def f(x, a, b):\n",
        "    return a * x + b\n",
        "\n",
        "popt, pcov = curve_fit(f, x, y)\n",
        ""
      ],
      "metadata": {
        "id": "SksRWe2XzJjr"
      },
      "execution_count": 3,
      "outputs": []
    },
    {
      "cell_type": "code",
      "source": [
        "# retrieve parameter values\n",
        "a = popt[0]\n",
        "b = popt[1]\n",
        "print('Optimal Values')\n",
        "print('a: ' + str(a))\n",
        "print('b: ' + str(b))\n",
        "\n",
        "# compute r^2\n",
        "r2 = 1.0-(sum((y-f(x,a,b))**2)/((n-1.0)*np.var(y,ddof=1)))\n",
        "print('R^2: ' + str(r2))\n",
        "\n",
        "# calculate parameter confidence interval\n",
        "a,b = unc.correlated_values(popt, pcov)\n",
        "print('Uncertainty')\n",
        "print('a: ' + str(a))\n",
        "print('b: ' + str(b))\n",
        "\n",
        "\n",
        "# calculate regression confidence interval\n",
        "px = np.linspace(5, 30, 100)\n",
        "py = a*px+b\n",
        "nom = unp.nominal_values(py)\n",
        "std = unp.std_devs(py)\n",
        "\n",
        "def predband(x, xd, yd, p, func, conf=0.95):\n",
        "    # x = requested points\n",
        "    # xd = x data\n",
        "    # yd = y data\n",
        "    # p = parameters\n",
        "    # func = function name\n",
        "    alpha = 1.0 - conf    # significance\n",
        "    N = xd.size          # data sample size\n",
        "    var_n = len(p)  # number of parameters\n",
        "    # Quantile of Student's t distribution for p=(1-alpha/2)\n",
        "    q = stats.t.ppf(1.0 - alpha / 2.0, N - var_n)\n",
        "    # Stdev of an individual measurement\n",
        "    se = np.sqrt(1. / (N - var_n) * \\\n",
        "                 np.sum((yd - func(xd, *p)) ** 2))\n",
        "    # Auxiliary definitions\n",
        "    sx = (x - xd.mean()) ** 2\n",
        "    sxd = np.sum((xd - xd.mean()) ** 2)\n",
        "    # Predicted values (best-fit model)\n",
        "    yp = func(x, *p)\n",
        "    # Prediction band\n",
        "    dy = q * se * np.sqrt(1.0+ (1.0/N) + (sx/sxd))\n",
        "    # Upper & lower prediction bands.\n",
        "    lpb, upb = yp - dy, yp + dy\n",
        "    return lpb, upb\n",
        "\n",
        "lpb, upb = predband(px, x, y, popt, f, conf=0.95)\n",
        "\n",
        "\n",
        "# plot the regression\n",
        "plt.plot(px, nom, color='black', label='Regression Line')\n",
        "\n",
        "# uncertainty lines (95% confidence)\n",
        "plt.fill_between (px, nom - 1.96 * std, nom + 1.96 * std, color='gainsboro', label='95% Confidence Region',linewidth=3)\n",
        "plt.legend()\n",
        "# prediction band (95% confidence)\n",
        "plt.plot(px, lpb, 'k--',label='95% Prediction Band')\n",
        "plt.plot(px, upb, 'k--')\n",
        "plt.ylabel('Growth rate (µmax)')\n",
        "plt.xlabel('Temperature (°C)')\n",
        "plt.ylabel('Growth rate (µmax)', fontsize=13)\n",
        "plt.xlabel('Temperature (°C)', fontsize=12)\n",
        "plt.xlabel('Temperature (°C)',labelpad=10)\n",
        "# plot data\n",
        "plt.scatter(x,y,s=50, label='ComBase Data', marker='+', color='black')\n",
        "datafile_name = 'x and y CJ qPCR.csv'\n",
        "data = pd.read_csv(datafile_name)\n",
        "data\n",
        "x = data['x'].values\n",
        "y = data['y'].values\n",
        "n = len(y)\n",
        "plt.scatter(x,y,s=50, label='qPCR Data', marker='o', color='black')\n",
        "plt.legend(loc='best')\n",
        "\n",
        "# save and show figure\n",
        "plt.savefig('regression.png')\n",
        "plt.show()"
      ],
      "metadata": {
        "colab": {
          "base_uri": "https://localhost:8080/",
          "height": 584
        },
        "id": "wongBOcRzYON",
        "outputId": "2637c4d0-a250-496d-881d-85b580c22214"
      },
      "execution_count": 4,
      "outputs": [
        {
          "output_type": "stream",
          "name": "stdout",
          "text": [
            "Optimal Values\n",
            "a: 0.027756534785126297\n",
            "b: -0.27014766054392414\n",
            "R^2: 0.36297252251731493\n",
            "Uncertainty\n",
            "a: 0.0278+/-0.0027\n",
            "b: -0.27+/-0.04\n"
          ]
        },
        {
          "output_type": "display_data",
          "data": {
            "text/plain": [
              "<Figure size 640x480 with 1 Axes>"
            ],
            "image/png": "[encoded data removed]"
          },
          "metadata": {}
        }
      ]
    }
  ]
}